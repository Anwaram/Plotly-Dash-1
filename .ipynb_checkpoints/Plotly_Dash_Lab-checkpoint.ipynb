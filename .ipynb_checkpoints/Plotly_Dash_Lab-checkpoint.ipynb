{
 "cells": [
  {
   "cell_type": "markdown",
   "metadata": {},
   "source": [
    "# Q0: import dash standard libraries"
   ]
  },
  {
   "cell_type": "code",
   "execution_count": 1,
   "metadata": {},
   "outputs": [],
   "source": [
    "from dash.dependencies import Input, Output\n",
    "from dash import Dash, dcc, html\n",
    "from jupyter_dash import JupyterDash\n",
    "import warnings\n",
    "warnings.filterwarnings(\"ignore\")"
   ]
  },
  {
   "cell_type": "markdown",
   "metadata": {},
   "source": [
    "# Q1: Make dash that prints \"Data Science\""
   ]
  },
  {
   "cell_type": "code",
   "execution_count": 2,
   "metadata": {},
   "outputs": [],
   "source": [
    "app = JupyterDash(__name__)\n",
    "app.layout = html.H1('Data Science', style = {'text-align':'center'})\n",
    "\n",
    "app.run_server()"
   ]
  },
  {
   "cell_type": "markdown",
   "metadata": {},
   "source": [
    "# Q2: Make dash that takes name input and outpt \"Welcome to Data Science dashboard {name}\""
   ]
  },
  {
   "cell_type": "code",
   "execution_count": 3,
   "metadata": {},
   "outputs": [],
   "source": [
    "app = JupyterDash(__name__)\n",
    "\n",
    "app.layout = html.Div([\n",
    "    html.Div([\n",
    "        \"Enter your name: \",\n",
    "        dcc.Input(id='my-input', value='', type='text')\n",
    "    ]),\n",
    "    html.Br(),\n",
    "    html.Div(id='my-output'),\n",
    "\n",
    "])\n",
    "\n",
    "\n",
    "@app.callback(\n",
    "    Output(component_id='my-output', component_property='children'),\n",
    "    Input(component_id='my-input', component_property='value')\n",
    ")\n",
    "def update_output_div(input_value):\n",
    "    return f'Welcome to Data Science dashboard {input_value}'\n",
    "app.run_server()"
   ]
  },
  {
   "cell_type": "markdown",
   "metadata": {},
   "source": [
    "# Q3: Make Plotly-Dash that takes two inputs (numbers) and output 3 numbers x, y , z= x+y\n",
    "- hint: use html.Div, dcc.Input(type='number')"
   ]
  },
  {
   "cell_type": "code",
   "execution_count": 4,
   "metadata": {},
   "outputs": [],
   "source": [
    "app = JupyterDash(__name__)\n",
    "\n",
    "app.layout = html.Div([\n",
    "    html.Div([\n",
    "        \"Enter the first number: \",\n",
    "        dcc.Input(id='input1', value='', type='number'),\n",
    "        \"Enter the second number: \",\n",
    "        dcc.Input(id='input2', value='', type='number'),\n",
    "    ]),\n",
    "    html.Div(id='output'),\n",
    "\n",
    "])\n",
    "\n",
    "\n",
    "@app.callback(\n",
    "    Output(component_id='output', component_property='children'),\n",
    "    Input(component_id='input1', component_property='value'),\n",
    "    Input(component_id='input2', component_property='value'),\n",
    ")\n",
    "\n",
    "def update_output_div(input1, input2):\n",
    "    return f'{input1},  {input2} ,  {input1+input2} = {input1} + {input2}'\n",
    "\n",
    "app.run_server()"
   ]
  },
  {
   "cell_type": "markdown",
   "metadata": {},
   "source": [
    "# Q4.1: Make JubyterDash with Rangeslider from 1-15 with 6 option"
   ]
  },
  {
   "cell_type": "code",
   "execution_count": 5,
   "metadata": {},
   "outputs": [],
   "source": [
    "app = JupyterDash(__name__)\n",
    "\n",
    "app.layout = html.Div([\n",
    "    dcc.RangeSlider(1, 15, 3, value=[1, 15], id='my-range-slider'),\n",
    "    html.Div(id='output-container-range-slider')\n",
    "])\n",
    "\n",
    "@app.callback(\n",
    "    Output('output-container-range-slider', 'children'),\n",
    "    Input('my-range-slider', 'value'))\n",
    "def update_output(value):\n",
    "    return 'You have selected \"{}\"'.format(value)\n",
    "\n",
    "app.run_server()"
   ]
  },
  {
   "cell_type": "markdown",
   "metadata": {},
   "source": [
    "# Q4.2: add to the previous dash: Label, set default value on rangeslider as 7-10"
   ]
  },
  {
   "cell_type": "code",
   "execution_count": 6,
   "metadata": {},
   "outputs": [],
   "source": [
    "app = JupyterDash(__name__)\n",
    "\n",
    "app.layout = html.Div([\n",
    "    dcc.RangeSlider(1, 15, 3, value=[7,10], id='my-range-slider'),\n",
    "    html.Div(id='output-container-range-slider')\n",
    "])\n",
    "\n",
    "@app.callback(\n",
    "    Output('output-container-range-slider', 'children'),\n",
    "    Input('my-range-slider', 'value'))\n",
    "def update_output(value):\n",
    "    return 'You have selected \"{}\"'.format(value)\n",
    "\n",
    "app.run_server()"
   ]
  },
  {
   "cell_type": "markdown",
   "metadata": {},
   "source": [
    "# Q5: Make 3 different Dcc types (Dropdown - Checkbox...) in one dash"
   ]
  },
  {
   "cell_type": "code",
   "execution_count": 7,
   "metadata": {
    "scrolled": true
   },
   "outputs": [],
   "source": [
    "app = JupyterDash(__name__)\n",
    "\n",
    "app.layout = html.Div([\n",
    "    \"Dropdown: \",\n",
    "    dcc.Dropdown(['A', 'B', 'C'],),\n",
    "    \"Checklist: \",\n",
    "    dcc.Checklist(['A', 'B', 'C']),\n",
    "    \"RadioItems: \",\n",
    "    dcc.RadioItems(['A', 'B', 'C'])\n",
    "\n",
    "])\n",
    "\n",
    "app.run_server()"
   ]
  },
  {
   "cell_type": "markdown",
   "metadata": {},
   "source": [
    "# Q6: Make Plotly chart, then add it to a plotly_dash"
   ]
  },
  {
   "cell_type": "code",
   "execution_count": 2,
   "metadata": {},
   "outputs": [],
   "source": [
    "import plotly.express as px"
   ]
  },
  {
   "cell_type": "code",
   "execution_count": 8,
   "metadata": {},
   "outputs": [],
   "source": [
    "df = px.data.tips()\n",
    "fig = px.pie(df, values='tip', names='day')\n",
    "\n",
    "app = JupyterDash(__name__)\n",
    "app.layout = html.Div([\n",
    "    html.H4('Tips chart'),\n",
    "    dcc.Graph(figure=fig),\n",
    "])\n",
    "\n",
    "app.run_server()"
   ]
  },
  {
   "cell_type": "markdown",
   "metadata": {},
   "source": [
    "# Q7: From our data make plotly-dash with suitble chart, and Dropdown.\n",
    "\n",
    "- Dropdown should contain at least 3 options, each one represents different column.\n",
    "- Add label to dropdown.\n",
    "- The chart data should change depending on the selected dropdown option."
   ]
  },
  {
   "cell_type": "code",
   "execution_count": 1,
   "metadata": {},
   "outputs": [],
   "source": [
    "import pandas as pd\n",
    "df = pd.read_csv(\"titanic passenger list.csv\")"
   ]
  },
  {
   "cell_type": "code",
   "execution_count": 9,
   "metadata": {
    "scrolled": true
   },
   "outputs": [],
   "source": [
    "app = Dash(__name__)\n",
    "\n",
    "\n",
    "app.layout = html.Div([\n",
    "    dcc.Graph(id=\"graph\"),\n",
    "    html.P(\"\"),\n",
    "    dcc.Dropdown(id='names',\n",
    "        options=['survived','sex','embarked'],\n",
    "        value='survived', clearable=False\n",
    "    ),\n",
    "])\n",
    "\n",
    "\n",
    "@app.callback(\n",
    "    Output(\"graph\", \"figure\"), \n",
    "    Input(\"names\", \"value\"))\n",
    "def generate_chart(names):\n",
    "    fig = px.pie(df, names=names, hole=.3)\n",
    "    return fig\n",
    "\n",
    "\n",
    "app.run_server()"
   ]
  },
  {
   "cell_type": "markdown",
   "metadata": {},
   "source": [
    "# Q8: add 2 more charts to the prevoius Ploty-Dash"
   ]
  },
  {
   "cell_type": "code",
   "execution_count": 10,
   "metadata": {},
   "outputs": [],
   "source": [
    "app = Dash(__name__)\n",
    "\n",
    "\n",
    "app.layout = html.Div([\n",
    "    dcc.Graph(id=\"graph1\"),\n",
    "    dcc.Graph(id=\"graph2\"),\n",
    "    dcc.Graph(id=\"graph3\"),\n",
    "    html.Div([\n",
    "    html.P(\"Chooese:\"),\n",
    "    dcc.Dropdown(id='Dropdown',\n",
    "        options=['survived','sex','embarked'],\n",
    "        value='survived', clearable=False\n",
    "    ),\n",
    "    ]),\n",
    "])\n",
    "\n",
    "\n",
    "@app.callback(\n",
    "    Output(\"graph1\", \"figure\"), \n",
    "    Output(\"graph2\", \"figure\"), \n",
    "    Output(\"graph3\", \"figure\"), \n",
    "    Input(\"Dropdown\", \"value\"))\n",
    "def generate_chart(names):\n",
    "    fig1 = px.pie(df, names=names, hole=.3)\n",
    "    fig2 = px.histogram(df, x=names, color=\"sex\")\n",
    "    fig3 = px.bar(df, x=names, y=\"age\", color=\"sex\")\n",
    "    return fig1, fig2 , fig3\n",
    "\n",
    "app.run_server()"
   ]
  },
  {
   "cell_type": "markdown",
   "metadata": {},
   "source": [
    "# Q9: Search for \"Plotly Gallery\" and fetch for a graph and use it with our data.\n",
    "\n",
    "- Note: You need to put the resourse addres of fetched your grapth.\n",
    "\n",
    "https://python-graph-gallery.com"
   ]
  },
  {
   "cell_type": "code",
   "execution_count": 11,
   "metadata": {},
   "outputs": [],
   "source": [
    "app = Dash(__name__)\n",
    "\n",
    "\n",
    "app.layout = html.Div([\n",
    "    dcc.Graph(id=\"graph\"),\n",
    "    html.P(\"\"),\n",
    "    dcc.Dropdown(id='names',\n",
    "        options=['age'],\n",
    "        value='age', clearable=False\n",
    "    ),\n",
    "])\n",
    "\n",
    "\n",
    "@app.callback(\n",
    "    Output(\"graph\", \"figure\"), \n",
    "    Input(\"names\", \"value\"))\n",
    "def generate_chart(names):\n",
    "    fig = px.scatter(df, x=names, y=\"age\")\n",
    "    return fig\n",
    "\n",
    "\n",
    "app.run_server()"
   ]
  },
  {
   "cell_type": "markdown",
   "metadata": {},
   "source": [
    "# Challenge 1.1: Create Plotly dash with two charts depends on different columns of the data\n",
    "- First Chart : Pie\n",
    "- Secound Chart: is by your Choice ( Not Pie )"
   ]
  },
  {
   "cell_type": "code",
   "execution_count": null,
   "metadata": {},
   "outputs": [],
   "source": []
  },
  {
   "cell_type": "markdown",
   "metadata": {},
   "source": [
    "# Challenge 1.2: Make Hovering over a slice of the pie changes the data for the second chart depending on what the slice is."
   ]
  },
  {
   "cell_type": "code",
   "execution_count": null,
   "metadata": {},
   "outputs": [],
   "source": []
  }
 ],
 "metadata": {
  "kernelspec": {
   "display_name": "Python 3 (ipykernel)",
   "language": "python",
   "name": "python3"
  },
  "language_info": {
   "codemirror_mode": {
    "name": "ipython",
    "version": 3
   },
   "file_extension": ".py",
   "mimetype": "text/x-python",
   "name": "python",
   "nbconvert_exporter": "python",
   "pygments_lexer": "ipython3",
   "version": "3.9.13"
  }
 },
 "nbformat": 4,
 "nbformat_minor": 2
}
